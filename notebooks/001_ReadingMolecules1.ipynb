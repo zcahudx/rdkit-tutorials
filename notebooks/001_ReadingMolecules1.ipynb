{
 "cells": [
  {
   "cell_type": "markdown",
   "metadata": {},
   "source": [
    "# Reading and writing molecules 1\n",
    "\n",
    "This is a short overview of creating molecules from and writing molecules to various file formats. It is intended to be a complement to, not replacement for, the contents of the [main RDKit documentation](http://rdkit.org/docs/index.html)\n",
    "\n",
    "@TAGS: #basics #molecule_input "
   ]
  },
  {
   "cell_type": "code",
   "execution_count": 20,
   "metadata": {},
   "outputs": [],
   "source": [
    "# %pip install rdkit\n",
    "from rdkit import Chem\n",
    "from rdkit.Chem.Draw import IPythonConsole\n",
    "from rdkit.Chem import Draw\n",
    "# uncomment this if you try the tutorial and end up with low-quality images\n",
    "IPythonConsole.ipython_useSVG=True"
   ]
  },
  {
   "cell_type": "code",
   "execution_count": 2,
   "metadata": {
    "tags": [
     "nbval-ignore-output"
    ]
   },
   "outputs": [
    {
     "name": "stdout",
     "output_type": "stream",
     "text": [
      "Fri Jan  5 15:24:14 2024\n"
     ]
    }
   ],
   "source": [
    "import time\n",
    "print(time.asctime()) # doctest: IGNORE"
   ]
  },
  {
   "cell_type": "markdown",
   "metadata": {},
   "source": [
    "## Working with SMILES"
   ]
  },
  {
   "cell_type": "markdown",
   "metadata": {},
   "source": [
    "If you have a SMILES string, the easiest thing to use is MolFromSmiles:"
   ]
  },
  {
   "cell_type": "code",
   "execution_count": 21,
   "metadata": {
    "scrolled": true,
    "tags": [
     "nbval-ignore-output"
    ]
   },
   "outputs": [
    {
     "data": {
      "image/png": "[encoded data removed]",
      "image/svg+xml": [
       "<?xml version='1.0' encoding='iso-8859-1'?>\n",
       "<svg version='1.1' baseProfile='full'\n",
       "              xmlns='http://www.w3.org/2000/svg'\n",
       "                      xmlns:rdkit='http://www.rdkit.org/xml'\n",
       "                      xmlns:xlink='http://www.w3.org/1999/xlink'\n",
       "                  xml:space='preserve'\n",
       "width='450px' height='150px' viewBox='0 0 450 150'>\n",
       "<!-- END OF HEADER -->\n",
       "<rect style='opacity:1.0;fill:#FFFFFF;stroke:none' width='450.0' height='150.0' x='0.0' y='0.0'> </rect>\n",
       "<path class='bond-0 atom-0 atom-1' d='M 28.5,91.8 L 41.7,99.3' style='fill:none;fill-rule:evenodd;stroke:#000000;stroke-width:2.0px;stroke-linecap:butt;stroke-linejoin:miter;stroke-opacity:1' />\n",
       "<path class='bond-0 atom-0 atom-1' d='M 41.7,99.3 L 54.8,106.9' style='fill:none;fill-rule:evenodd;stroke:#FF0000;stroke-width:2.0px;stroke-linecap:butt;stroke-linejoin:miter;stroke-opacity:1' />\n",
       "<path class='bond-1 atom-1 atom-2' d='M 67.0,106.9 L 80.2,99.3' style='fill:none;fill-rule:evenodd;stroke:#FF0000;stroke-width:2.0px;stroke-linecap:butt;stroke-linejoin:miter;stroke-opacity:1' />\n",
       "<path class='bond-1 atom-1 atom-2' d='M 80.2,99.3 L 93.3,91.6' style='fill:none;fill-rule:evenodd;stroke:#000000;stroke-width:2.0px;stroke-linecap:butt;stroke-linejoin:miter;stroke-opacity:1' />\n",
       "<path class='bond-2 atom-2 atom-3' d='M 93.3,91.6 L 93.2,54.2' style='fill:none;fill-rule:evenodd;stroke:#000000;stroke-width:2.0px;stroke-linecap:butt;stroke-linejoin:miter;stroke-opacity:1' />\n",
       "<path class='bond-2 atom-2 atom-3' d='M 98.9,88.4 L 98.8,57.4' style='fill:none;fill-rule:evenodd;stroke:#000000;stroke-width:2.0px;stroke-linecap:butt;stroke-linejoin:miter;stroke-opacity:1' />\n",
       "<path class='bond-3 atom-3 atom-4' d='M 93.2,54.2 L 125.6,35.4' style='fill:none;fill-rule:evenodd;stroke:#000000;stroke-width:2.0px;stroke-linecap:butt;stroke-linejoin:miter;stroke-opacity:1' />\n",
       "<path class='bond-4 atom-4 atom-5' d='M 125.6,35.4 L 158.0,54.1' style='fill:none;fill-rule:evenodd;stroke:#000000;stroke-width:2.0px;stroke-linecap:butt;stroke-linejoin:miter;stroke-opacity:1' />\n",
       "<path class='bond-4 atom-4 atom-5' d='M 125.6,41.9 L 152.4,57.3' style='fill:none;fill-rule:evenodd;stroke:#000000;stroke-width:2.0px;stroke-linecap:butt;stroke-linejoin:miter;stroke-opacity:1' />\n",
       "<path class='bond-5 atom-5 atom-6' d='M 158.0,54.1 L 158.1,91.5' style='fill:none;fill-rule:evenodd;stroke:#000000;stroke-width:2.0px;stroke-linecap:butt;stroke-linejoin:miter;stroke-opacity:1' />\n",
       "<path class='bond-6 atom-6 atom-7' d='M 158.1,91.5 L 125.7,110.3' style='fill:none;fill-rule:evenodd;stroke:#000000;stroke-width:2.0px;stroke-linecap:butt;stroke-linejoin:miter;stroke-opacity:1' />\n",
       "<path class='bond-6 atom-6 atom-7' d='M 152.5,88.3 L 125.7,103.8' style='fill:none;fill-rule:evenodd;stroke:#000000;stroke-width:2.0px;stroke-linecap:butt;stroke-linejoin:miter;stroke-opacity:1' />\n",
       "<path class='bond-7 atom-6 atom-8' d='M 158.1,91.5 L 173.3,96.4' style='fill:none;fill-rule:evenodd;stroke:#000000;stroke-width:2.0px;stroke-linecap:butt;stroke-linejoin:miter;stroke-opacity:1' />\n",
       "<path class='bond-7 atom-6 atom-8' d='M 173.3,96.4 L 188.5,101.3' style='fill:none;fill-rule:evenodd;stroke:#0000FF;stroke-width:2.0px;stroke-linecap:butt;stroke-linejoin:miter;stroke-opacity:1' />\n",
       "<path class='bond-8 atom-8 atom-9' d='M 198.4,96.4 L 207.0,84.5' style='fill:none;fill-rule:evenodd;stroke:#0000FF;stroke-width:2.0px;stroke-linecap:butt;stroke-linejoin:miter;stroke-opacity:1' />\n",
       "<path class='bond-8 atom-8 atom-9' d='M 207.0,84.5 L 215.6,72.6' style='fill:none;fill-rule:evenodd;stroke:#000000;stroke-width:2.0px;stroke-linecap:butt;stroke-linejoin:miter;stroke-opacity:1' />\n",
       "<path class='bond-9 atom-9 atom-10' d='M 215.6,72.6 L 207.0,60.8' style='fill:none;fill-rule:evenodd;stroke:#000000;stroke-width:2.0px;stroke-linecap:butt;stroke-linejoin:miter;stroke-opacity:1' />\n",
       "<path class='bond-9 atom-9 atom-10' d='M 207.0,60.8 L 198.4,49.0' style='fill:none;fill-rule:evenodd;stroke:#0000FF;stroke-width:2.0px;stroke-linecap:butt;stroke-linejoin:miter;stroke-opacity:1' />\n",
       "<path class='bond-9 atom-9 atom-10' d='M 208.7,72.7 L 201.3,62.5' style='fill:none;fill-rule:evenodd;stroke:#000000;stroke-width:2.0px;stroke-linecap:butt;stroke-linejoin:miter;stroke-opacity:1' />\n",
       "<path class='bond-9 atom-9 atom-10' d='M 201.3,62.5 L 193.8,52.3' style='fill:none;fill-rule:evenodd;stroke:#0000FF;stroke-width:2.0px;stroke-linecap:butt;stroke-linejoin:miter;stroke-opacity:1' />\n",
       "<path class='bond-10 atom-9 atom-11' d='M 215.6,72.6 L 232.0,72.6' style='fill:none;fill-rule:evenodd;stroke:#000000;stroke-width:2.0px;stroke-linecap:butt;stroke-linejoin:miter;stroke-opacity:1' />\n",
       "<path class='bond-10 atom-9 atom-11' d='M 232.0,72.6 L 248.4,72.6' style='fill:none;fill-rule:evenodd;stroke:#CCCC00;stroke-width:2.0px;stroke-linecap:butt;stroke-linejoin:miter;stroke-opacity:1' />\n",
       "<path class='bond-11 atom-11 atom-12' d='M 259.2,67.4 L 264.7,57.9' style='fill:none;fill-rule:evenodd;stroke:#CCCC00;stroke-width:2.0px;stroke-linecap:butt;stroke-linejoin:miter;stroke-opacity:1' />\n",
       "<path class='bond-11 atom-11 atom-12' d='M 264.7,57.9 L 270.2,48.3' style='fill:none;fill-rule:evenodd;stroke:#FF0000;stroke-width:2.0px;stroke-linecap:butt;stroke-linejoin:miter;stroke-opacity:1' />\n",
       "<path class='bond-11 atom-11 atom-12' d='M 254.4,64.6 L 259.9,55.1' style='fill:none;fill-rule:evenodd;stroke:#CCCC00;stroke-width:2.0px;stroke-linecap:butt;stroke-linejoin:miter;stroke-opacity:1' />\n",
       "<path class='bond-11 atom-11 atom-12' d='M 259.9,55.1 L 265.4,45.5' style='fill:none;fill-rule:evenodd;stroke:#FF0000;stroke-width:2.0px;stroke-linecap:butt;stroke-linejoin:miter;stroke-opacity:1' />\n",
       "<path class='bond-12 atom-11 atom-13' d='M 257.7,80.6 L 266.0,92.1 L 263.6,93.5 Z' style='fill:#CCCC00;fill-rule:evenodd;fill-opacity:1;stroke:#CCCC00;stroke-width:0.5px;stroke-linecap:butt;stroke-linejoin:miter;stroke-opacity:1;' />\n",
       "<path class='bond-12 atom-11 atom-13' d='M 266.0,92.1 L 268.8,104.9 L 275.3,104.9 Z' style='fill:#000000;fill-rule:evenodd;fill-opacity:1;stroke:#000000;stroke-width:0.5px;stroke-linecap:butt;stroke-linejoin:miter;stroke-opacity:1;' />\n",
       "<path class='bond-12 atom-11 atom-13' d='M 266.0,92.1 L 263.6,93.5 L 268.8,104.9 Z' style='fill:#000000;fill-rule:evenodd;fill-opacity:1;stroke:#000000;stroke-width:0.5px;stroke-linecap:butt;stroke-linejoin:miter;stroke-opacity:1;' />\n",
       "<path class='bond-13 atom-13 atom-14' d='M 268.8,104.9 L 309.3,104.8' style='fill:none;fill-rule:evenodd;stroke:#000000;stroke-width:2.0px;stroke-linecap:butt;stroke-linejoin:miter;stroke-opacity:1' />\n",
       "<path class='bond-14 atom-14 atom-15' d='M 309.3,104.8 L 316.8,117.8' style='fill:none;fill-rule:evenodd;stroke:#000000;stroke-width:2.0px;stroke-linecap:butt;stroke-linejoin:miter;stroke-opacity:1' />\n",
       "<path class='bond-14 atom-14 atom-15' d='M 316.8,117.8 L 324.2,130.7' style='fill:none;fill-rule:evenodd;stroke:#0000FF;stroke-width:2.0px;stroke-linecap:butt;stroke-linejoin:miter;stroke-opacity:1' />\n",
       "<path class='bond-14 atom-14 atom-15' d='M 315.7,104.8 L 322.4,116.3' style='fill:none;fill-rule:evenodd;stroke:#000000;stroke-width:2.0px;stroke-linecap:butt;stroke-linejoin:miter;stroke-opacity:1' />\n",
       "<path class='bond-14 atom-14 atom-15' d='M 322.4,116.3 L 329.1,127.9' style='fill:none;fill-rule:evenodd;stroke:#0000FF;stroke-width:2.0px;stroke-linecap:butt;stroke-linejoin:miter;stroke-opacity:1' />\n",
       "<path class='bond-15 atom-15 atom-16' d='M 333.3,137.2 L 349.4,137.2' style='fill:none;fill-rule:evenodd;stroke:#0000FF;stroke-width:2.0px;stroke-linecap:butt;stroke-linejoin:miter;stroke-opacity:1' />\n",
       "<path class='bond-15 atom-15 atom-16' d='M 349.4,137.2 L 365.5,137.1' style='fill:none;fill-rule:evenodd;stroke:#000000;stroke-width:2.0px;stroke-linecap:butt;stroke-linejoin:miter;stroke-opacity:1' />\n",
       "<path class='bond-16 atom-16 atom-17' d='M 365.5,137.1 L 384.1,104.7' style='fill:none;fill-rule:evenodd;stroke:#000000;stroke-width:2.0px;stroke-linecap:butt;stroke-linejoin:miter;stroke-opacity:1' />\n",
       "<path class='bond-16 atom-16 atom-17' d='M 362.2,131.5 L 377.6,104.7' style='fill:none;fill-rule:evenodd;stroke:#000000;stroke-width:2.0px;stroke-linecap:butt;stroke-linejoin:miter;stroke-opacity:1' />\n",
       "<path class='bond-17 atom-17 atom-18' d='M 384.1,104.7 L 365.3,72.3' style='fill:none;fill-rule:evenodd;stroke:#000000;stroke-width:2.0px;stroke-linecap:butt;stroke-linejoin:miter;stroke-opacity:1' />\n",
       "<path class='bond-18 atom-18 atom-19' d='M 365.3,72.3 L 327.9,72.4' style='fill:none;fill-rule:evenodd;stroke:#000000;stroke-width:2.0px;stroke-linecap:butt;stroke-linejoin:miter;stroke-opacity:1' />\n",
       "<path class='bond-18 atom-18 atom-19' d='M 362.1,77.9 L 331.1,78.0' style='fill:none;fill-rule:evenodd;stroke:#000000;stroke-width:2.0px;stroke-linecap:butt;stroke-linejoin:miter;stroke-opacity:1' />\n",
       "<path class='bond-19 atom-19 atom-20' d='M 327.9,72.4 L 309.1,40.0' style='fill:none;fill-rule:evenodd;stroke:#000000;stroke-width:2.0px;stroke-linecap:butt;stroke-linejoin:miter;stroke-opacity:1' />\n",
       "<path class='bond-20 atom-18 atom-21' d='M 365.3,72.3 L 372.7,59.5' style='fill:none;fill-rule:evenodd;stroke:#000000;stroke-width:2.0px;stroke-linecap:butt;stroke-linejoin:miter;stroke-opacity:1' />\n",
       "<path class='bond-20 atom-18 atom-21' d='M 372.7,59.5 L 380.1,46.6' style='fill:none;fill-rule:evenodd;stroke:#FF0000;stroke-width:2.0px;stroke-linecap:butt;stroke-linejoin:miter;stroke-opacity:1' />\n",
       "<path class='bond-21 atom-21 atom-22' d='M 380.1,33.3 L 372.6,20.4' style='fill:none;fill-rule:evenodd;stroke:#FF0000;stroke-width:2.0px;stroke-linecap:butt;stroke-linejoin:miter;stroke-opacity:1' />\n",
       "<path class='bond-21 atom-21 atom-22' d='M 372.6,20.4 L 365.2,7.5' style='fill:none;fill-rule:evenodd;stroke:#000000;stroke-width:2.0px;stroke-linecap:butt;stroke-linejoin:miter;stroke-opacity:1' />\n",
       "<path class='bond-22 atom-17 atom-23' d='M 384.1,104.7 L 421.5,104.6' style='fill:none;fill-rule:evenodd;stroke:#000000;stroke-width:2.0px;stroke-linecap:butt;stroke-linejoin:miter;stroke-opacity:1' />\n",
       "<path class='bond-23 atom-7 atom-2' d='M 125.7,110.3 L 93.3,91.6' style='fill:none;fill-rule:evenodd;stroke:#000000;stroke-width:2.0px;stroke-linecap:butt;stroke-linejoin:miter;stroke-opacity:1' />\n",
       "<path class='bond-24 atom-19 atom-14' d='M 327.9,72.4 L 309.3,104.8' style='fill:none;fill-rule:evenodd;stroke:#000000;stroke-width:2.0px;stroke-linecap:butt;stroke-linejoin:miter;stroke-opacity:1' />\n",
       "<path class='bond-25 atom-10 atom-5' d='M 188.3,44.1 L 173.2,49.1' style='fill:none;fill-rule:evenodd;stroke:#0000FF;stroke-width:2.0px;stroke-linecap:butt;stroke-linejoin:miter;stroke-opacity:1' />\n",
       "<path class='bond-25 atom-10 atom-5' d='M 173.2,49.1 L 158.0,54.1' style='fill:none;fill-rule:evenodd;stroke:#000000;stroke-width:2.0px;stroke-linecap:butt;stroke-linejoin:miter;stroke-opacity:1' />\n",
       "<path d='M 93.2,56.1 L 93.2,54.2 L 94.8,53.3' style='fill:none;stroke:#000000;stroke-width:2.0px;stroke-linecap:butt;stroke-linejoin:miter;stroke-opacity:1;' />\n",
       "<path d='M 124.0,36.4 L 125.6,35.4 L 127.2,36.4' style='fill:none;stroke:#000000;stroke-width:2.0px;stroke-linecap:butt;stroke-linejoin:miter;stroke-opacity:1;' />\n",
       "<path d='M 127.4,109.3 L 125.7,110.3 L 124.1,109.3' style='fill:none;stroke:#000000;stroke-width:2.0px;stroke-linecap:butt;stroke-linejoin:miter;stroke-opacity:1;' />\n",
       "<path d='M 364.7,137.1 L 365.5,137.1 L 366.4,135.5' style='fill:none;stroke:#000000;stroke-width:2.0px;stroke-linecap:butt;stroke-linejoin:miter;stroke-opacity:1;' />\n",
       "<path class='atom-1' d='M 56.1 110.4\n",
       "Q 56.1 107.9, 57.3 106.5\n",
       "Q 58.6 105.1, 60.9 105.1\n",
       "Q 63.3 105.1, 64.5 106.5\n",
       "Q 65.8 107.9, 65.8 110.4\n",
       "Q 65.8 113.0, 64.5 114.5\n",
       "Q 63.3 115.9, 60.9 115.9\n",
       "Q 58.6 115.9, 57.3 114.5\n",
       "Q 56.1 113.0, 56.1 110.4\n",
       "M 60.9 114.7\n",
       "Q 62.6 114.7, 63.4 113.7\n",
       "Q 64.3 112.6, 64.3 110.4\n",
       "Q 64.3 108.4, 63.4 107.3\n",
       "Q 62.6 106.3, 60.9 106.3\n",
       "Q 59.3 106.3, 58.4 107.3\n",
       "Q 57.6 108.3, 57.6 110.4\n",
       "Q 57.6 112.6, 58.4 113.7\n",
       "Q 59.3 114.7, 60.9 114.7\n",
       "' fill='#FF0000'/>\n",
       "<path class='atom-8' d='M 191.4 97.7\n",
       "L 194.8 103.3\n",
       "Q 195.2 103.8, 195.7 104.8\n",
       "Q 196.3 105.8, 196.3 105.9\n",
       "L 196.3 97.7\n",
       "L 197.7 97.7\n",
       "L 197.7 108.3\n",
       "L 196.3 108.3\n",
       "L 192.6 102.1\n",
       "Q 192.1 101.4, 191.7 100.6\n",
       "Q 191.2 99.8, 191.1 99.5\n",
       "L 191.1 108.3\n",
       "L 189.7 108.3\n",
       "L 189.7 97.7\n",
       "L 191.4 97.7\n",
       "' fill='#0000FF'/>\n",
       "<path class='atom-8' d='M 189.6 109.3\n",
       "L 191.0 109.3\n",
       "L 191.0 113.8\n",
       "L 196.4 113.8\n",
       "L 196.4 109.3\n",
       "L 197.9 109.3\n",
       "L 197.9 119.9\n",
       "L 196.4 119.9\n",
       "L 196.4 115.0\n",
       "L 191.0 115.0\n",
       "L 191.0 119.9\n",
       "L 189.6 119.9\n",
       "L 189.6 109.3\n",
       "' fill='#0000FF'/>\n",
       "<path class='atom-10' d='M 191.2 37.1\n",
       "L 194.7 42.7\n",
       "Q 195.1 43.3, 195.6 44.3\n",
       "Q 196.2 45.3, 196.2 45.4\n",
       "L 196.2 37.1\n",
       "L 197.6 37.1\n",
       "L 197.6 47.7\n",
       "L 196.1 47.7\n",
       "L 192.4 41.6\n",
       "Q 192.0 40.9, 191.5 40.0\n",
       "Q 191.1 39.2, 190.9 39.0\n",
       "L 190.9 47.7\n",
       "L 189.6 47.7\n",
       "L 189.6 37.1\n",
       "L 191.2 37.1\n",
       "' fill='#0000FF'/>\n",
       "<path class='atom-11' d='M 250.1 76.2\n",
       "Q 250.2 76.2, 250.7 76.5\n",
       "Q 251.2 76.7, 251.7 76.8\n",
       "Q 252.3 76.9, 252.8 76.9\n",
       "Q 253.8 76.9, 254.4 76.4\n",
       "Q 255.0 75.9, 255.0 75.1\n",
       "Q 255.0 74.5, 254.7 74.1\n",
       "Q 254.4 73.8, 253.9 73.6\n",
       "Q 253.5 73.4, 252.7 73.2\n",
       "Q 251.8 72.9, 251.2 72.6\n",
       "Q 250.7 72.4, 250.3 71.8\n",
       "Q 249.9 71.2, 249.9 70.3\n",
       "Q 249.9 68.9, 250.8 68.1\n",
       "Q 251.7 67.3, 253.5 67.3\n",
       "Q 254.7 67.3, 256.1 67.9\n",
       "L 255.8 69.0\n",
       "Q 254.5 68.5, 253.5 68.5\n",
       "Q 252.5 68.5, 251.9 68.9\n",
       "Q 251.4 69.3, 251.4 70.1\n",
       "Q 251.4 70.6, 251.7 71.0\n",
       "Q 252.0 71.3, 252.4 71.5\n",
       "Q 252.8 71.7, 253.5 71.9\n",
       "Q 254.5 72.2, 255.1 72.5\n",
       "Q 255.6 72.8, 256.0 73.5\n",
       "Q 256.5 74.1, 256.5 75.1\n",
       "Q 256.5 76.6, 255.5 77.4\n",
       "Q 254.5 78.1, 252.9 78.1\n",
       "Q 251.9 78.1, 251.2 77.9\n",
       "Q 250.5 77.7, 249.7 77.4\n",
       "L 250.1 76.2\n",
       "' fill='#CCCC00'/>\n",
       "<path class='atom-12' d='M 266.8 40.1\n",
       "Q 266.8 37.6, 268.1 36.2\n",
       "Q 269.3 34.8, 271.7 34.8\n",
       "Q 274.0 34.8, 275.3 36.2\n",
       "Q 276.6 37.6, 276.6 40.1\n",
       "Q 276.6 42.7, 275.3 44.2\n",
       "Q 274.0 45.6, 271.7 45.6\n",
       "Q 269.4 45.6, 268.1 44.2\n",
       "Q 266.8 42.7, 266.8 40.1\n",
       "M 271.7 44.4\n",
       "Q 273.3 44.4, 274.2 43.4\n",
       "Q 275.1 42.3, 275.1 40.1\n",
       "Q 275.1 38.1, 274.2 37.0\n",
       "Q 273.3 36.0, 271.7 36.0\n",
       "Q 270.1 36.0, 269.2 37.0\n",
       "Q 268.3 38.0, 268.3 40.1\n",
       "Q 268.3 42.3, 269.2 43.4\n",
       "Q 270.1 44.4, 271.7 44.4\n",
       "' fill='#FF0000'/>\n",
       "<path class='atom-15' d='M 325.7 131.9\n",
       "L 329.2 137.5\n",
       "Q 329.5 138.1, 330.1 139.1\n",
       "Q 330.6 140.1, 330.7 140.1\n",
       "L 330.7 131.9\n",
       "L 332.1 131.9\n",
       "L 332.1 142.5\n",
       "L 330.6 142.5\n",
       "L 326.9 136.4\n",
       "Q 326.4 135.6, 326.0 134.8\n",
       "Q 325.5 134.0, 325.4 133.7\n",
       "L 325.4 142.5\n",
       "L 324.0 142.5\n",
       "L 324.0 131.9\n",
       "L 325.7 131.9\n",
       "' fill='#0000FF'/>\n",
       "<path class='atom-21' d='M 379.1 39.9\n",
       "Q 379.1 37.3, 380.3 35.9\n",
       "Q 381.6 34.5, 383.9 34.5\n",
       "Q 386.3 34.5, 387.6 35.9\n",
       "Q 388.8 37.3, 388.8 39.9\n",
       "Q 388.8 42.5, 387.5 43.9\n",
       "Q 386.3 45.4, 383.9 45.4\n",
       "Q 381.6 45.4, 380.3 43.9\n",
       "Q 379.1 42.5, 379.1 39.9\n",
       "M 383.9 44.2\n",
       "Q 385.6 44.2, 386.4 43.1\n",
       "Q 387.3 42.0, 387.3 39.9\n",
       "Q 387.3 37.8, 386.4 36.8\n",
       "Q 385.6 35.7, 383.9 35.7\n",
       "Q 382.3 35.7, 381.4 36.7\n",
       "Q 380.6 37.8, 380.6 39.9\n",
       "Q 380.6 42.0, 381.4 43.1\n",
       "Q 382.3 44.2, 383.9 44.2\n",
       "' fill='#FF0000'/>\n",
       "</svg>\n"
      ],
      "text/html": [
       "<?xml version='1.0' encoding='iso-8859-1'?>\n",
       "<svg version='1.1' baseProfile='full'\n",
       "              xmlns='http://www.w3.org/2000/svg'\n",
       "                      xmlns:rdkit='http://www.rdkit.org/xml'\n",
       "                      xmlns:xlink='http://www.w3.org/1999/xlink'\n",
       "                  xml:space='preserve'\n",
       "width='450px' height='150px' viewBox='0 0 450 150'>\n",
       "<!-- END OF HEADER -->\n",
       "<rect style='opacity:1.0;fill:#FFFFFF;stroke:none' width='450.0' height='150.0' x='0.0' y='0.0'> </rect>\n",
       "<path class='bond-0 atom-0 atom-1' d='M 28.5,91.8 L 41.7,99.3' style='fill:none;fill-rule:evenodd;stroke:#000000;stroke-width:2.0px;stroke-linecap:butt;stroke-linejoin:miter;stroke-opacity:1' />\n",
       "<path class='bond-0 atom-0 atom-1' d='M 41.7,99.3 L 54.8,106.9' style='fill:none;fill-rule:evenodd;stroke:#FF0000;stroke-width:2.0px;stroke-linecap:butt;stroke-linejoin:miter;stroke-opacity:1' />\n",
       "<path class='bond-1 atom-1 atom-2' d='M 67.0,106.9 L 80.2,99.3' style='fill:none;fill-rule:evenodd;stroke:#FF0000;stroke-width:2.0px;stroke-linecap:butt;stroke-linejoin:miter;stroke-opacity:1' />\n",
       "<path class='bond-1 atom-1 atom-2' d='M 80.2,99.3 L 93.3,91.6' style='fill:none;fill-rule:evenodd;stroke:#000000;stroke-width:2.0px;stroke-linecap:butt;stroke-linejoin:miter;stroke-opacity:1' />\n",
       "<path class='bond-2 atom-2 atom-3' d='M 93.3,91.6 L 93.2,54.2' style='fill:none;fill-rule:evenodd;stroke:#000000;stroke-width:2.0px;stroke-linecap:butt;stroke-linejoin:miter;stroke-opacity:1' />\n",
       "<path class='bond-2 atom-2 atom-3' d='M 98.9,88.4 L 98.8,57.4' style='fill:none;fill-rule:evenodd;stroke:#000000;stroke-width:2.0px;stroke-linecap:butt;stroke-linejoin:miter;stroke-opacity:1' />\n",
       "<path class='bond-3 atom-3 atom-4' d='M 93.2,54.2 L 125.6,35.4' style='fill:none;fill-rule:evenodd;stroke:#000000;stroke-width:2.0px;stroke-linecap:butt;stroke-linejoin:miter;stroke-opacity:1' />\n",
       "<path class='bond-4 atom-4 atom-5' d='M 125.6,35.4 L 158.0,54.1' style='fill:none;fill-rule:evenodd;stroke:#000000;stroke-width:2.0px;stroke-linecap:butt;stroke-linejoin:miter;stroke-opacity:1' />\n",
       "<path class='bond-4 atom-4 atom-5' d='M 125.6,41.9 L 152.4,57.3' style='fill:none;fill-rule:evenodd;stroke:#000000;stroke-width:2.0px;stroke-linecap:butt;stroke-linejoin:miter;stroke-opacity:1' />\n",
       "<path class='bond-5 atom-5 atom-6' d='M 158.0,54.1 L 158.1,91.5' style='fill:none;fill-rule:evenodd;stroke:#000000;stroke-width:2.0px;stroke-linecap:butt;stroke-linejoin:miter;stroke-opacity:1' />\n",
       "<path class='bond-6 atom-6 atom-7' d='M 158.1,91.5 L 125.7,110.3' style='fill:none;fill-rule:evenodd;stroke:#000000;stroke-width:2.0px;stroke-linecap:butt;stroke-linejoin:miter;stroke-opacity:1' />\n",
       "<path class='bond-6 atom-6 atom-7' d='M 152.5,88.3 L 125.7,103.8' style='fill:none;fill-rule:evenodd;stroke:#000000;stroke-width:2.0px;stroke-linecap:butt;stroke-linejoin:miter;stroke-opacity:1' />\n",
       "<path class='bond-7 atom-6 atom-8' d='M 158.1,91.5 L 173.3,96.4' style='fill:none;fill-rule:evenodd;stroke:#000000;stroke-width:2.0px;stroke-linecap:butt;stroke-linejoin:miter;stroke-opacity:1' />\n",
       "<path class='bond-7 atom-6 atom-8' d='M 173.3,96.4 L 188.5,101.3' style='fill:none;fill-rule:evenodd;stroke:#0000FF;stroke-width:2.0px;stroke-linecap:butt;stroke-linejoin:miter;stroke-opacity:1' />\n",
       "<path class='bond-8 atom-8 atom-9' d='M 198.4,96.4 L 207.0,84.5' style='fill:none;fill-rule:evenodd;stroke:#0000FF;stroke-width:2.0px;stroke-linecap:butt;stroke-linejoin:miter;stroke-opacity:1' />\n",
       "<path class='bond-8 atom-8 atom-9' d='M 207.0,84.5 L 215.6,72.6' style='fill:none;fill-rule:evenodd;stroke:#000000;stroke-width:2.0px;stroke-linecap:butt;stroke-linejoin:miter;stroke-opacity:1' />\n",
       "<path class='bond-9 atom-9 atom-10' d='M 215.6,72.6 L 207.0,60.8' style='fill:none;fill-rule:evenodd;stroke:#000000;stroke-width:2.0px;stroke-linecap:butt;stroke-linejoin:miter;stroke-opacity:1' />\n",
       "<path class='bond-9 atom-9 atom-10' d='M 207.0,60.8 L 198.4,49.0' style='fill:none;fill-rule:evenodd;stroke:#0000FF;stroke-width:2.0px;stroke-linecap:butt;stroke-linejoin:miter;stroke-opacity:1' />\n",
       "<path class='bond-9 atom-9 atom-10' d='M 208.7,72.7 L 201.3,62.5' style='fill:none;fill-rule:evenodd;stroke:#000000;stroke-width:2.0px;stroke-linecap:butt;stroke-linejoin:miter;stroke-opacity:1' />\n",
       "<path class='bond-9 atom-9 atom-10' d='M 201.3,62.5 L 193.8,52.3' style='fill:none;fill-rule:evenodd;stroke:#0000FF;stroke-width:2.0px;stroke-linecap:butt;stroke-linejoin:miter;stroke-opacity:1' />\n",
       "<path class='bond-10 atom-9 atom-11' d='M 215.6,72.6 L 232.0,72.6' style='fill:none;fill-rule:evenodd;stroke:#000000;stroke-width:2.0px;stroke-linecap:butt;stroke-linejoin:miter;stroke-opacity:1' />\n",
       "<path class='bond-10 atom-9 atom-11' d='M 232.0,72.6 L 248.4,72.6' style='fill:none;fill-rule:evenodd;stroke:#CCCC00;stroke-width:2.0px;stroke-linecap:butt;stroke-linejoin:miter;stroke-opacity:1' />\n",
       "<path class='bond-11 atom-11 atom-12' d='M 259.2,67.4 L 264.7,57.9' style='fill:none;fill-rule:evenodd;stroke:#CCCC00;stroke-width:2.0px;stroke-linecap:butt;stroke-linejoin:miter;stroke-opacity:1' />\n",
       "<path class='bond-11 atom-11 atom-12' d='M 264.7,57.9 L 270.2,48.3' style='fill:none;fill-rule:evenodd;stroke:#FF0000;stroke-width:2.0px;stroke-linecap:butt;stroke-linejoin:miter;stroke-opacity:1' />\n",
       "<path class='bond-11 atom-11 atom-12' d='M 254.4,64.6 L 259.9,55.1' style='fill:none;fill-rule:evenodd;stroke:#CCCC00;stroke-width:2.0px;stroke-linecap:butt;stroke-linejoin:miter;stroke-opacity:1' />\n",
       "<path class='bond-11 atom-11 atom-12' d='M 259.9,55.1 L 265.4,45.5' style='fill:none;fill-rule:evenodd;stroke:#FF0000;stroke-width:2.0px;stroke-linecap:butt;stroke-linejoin:miter;stroke-opacity:1' />\n",
       "<path class='bond-12 atom-11 atom-13' d='M 257.7,80.6 L 266.0,92.1 L 263.6,93.5 Z' style='fill:#CCCC00;fill-rule:evenodd;fill-opacity:1;stroke:#CCCC00;stroke-width:0.5px;stroke-linecap:butt;stroke-linejoin:miter;stroke-opacity:1;' />\n",
       "<path class='bond-12 atom-11 atom-13' d='M 266.0,92.1 L 268.8,104.9 L 275.3,104.9 Z' style='fill:#000000;fill-rule:evenodd;fill-opacity:1;stroke:#000000;stroke-width:0.5px;stroke-linecap:butt;stroke-linejoin:miter;stroke-opacity:1;' />\n",
       "<path class='bond-12 atom-11 atom-13' d='M 266.0,92.1 L 263.6,93.5 L 268.8,104.9 Z' style='fill:#000000;fill-rule:evenodd;fill-opacity:1;stroke:#000000;stroke-width:0.5px;stroke-linecap:butt;stroke-linejoin:miter;stroke-opacity:1;' />\n",
       "<path class='bond-13 atom-13 atom-14' d='M 268.8,104.9 L 309.3,104.8' style='fill:none;fill-rule:evenodd;stroke:#000000;stroke-width:2.0px;stroke-linecap:butt;stroke-linejoin:miter;stroke-opacity:1' />\n",
       "<path class='bond-14 atom-14 atom-15' d='M 309.3,104.8 L 316.8,117.8' style='fill:none;fill-rule:evenodd;stroke:#000000;stroke-width:2.0px;stroke-linecap:butt;stroke-linejoin:miter;stroke-opacity:1' />\n",
       "<path class='bond-14 atom-14 atom-15' d='M 316.8,117.8 L 324.2,130.7' style='fill:none;fill-rule:evenodd;stroke:#0000FF;stroke-width:2.0px;stroke-linecap:butt;stroke-linejoin:miter;stroke-opacity:1' />\n",
       "<path class='bond-14 atom-14 atom-15' d='M 315.7,104.8 L 322.4,116.3' style='fill:none;fill-rule:evenodd;stroke:#000000;stroke-width:2.0px;stroke-linecap:butt;stroke-linejoin:miter;stroke-opacity:1' />\n",
       "<path class='bond-14 atom-14 atom-15' d='M 322.4,116.3 L 329.1,127.9' style='fill:none;fill-rule:evenodd;stroke:#0000FF;stroke-width:2.0px;stroke-linecap:butt;stroke-linejoin:miter;stroke-opacity:1' />\n",
       "<path class='bond-15 atom-15 atom-16' d='M 333.3,137.2 L 349.4,137.2' style='fill:none;fill-rule:evenodd;stroke:#0000FF;stroke-width:2.0px;stroke-linecap:butt;stroke-linejoin:miter;stroke-opacity:1' />\n",
       "<path class='bond-15 atom-15 atom-16' d='M 349.4,137.2 L 365.5,137.1' style='fill:none;fill-rule:evenodd;stroke:#000000;stroke-width:2.0px;stroke-linecap:butt;stroke-linejoin:miter;stroke-opacity:1' />\n",
       "<path class='bond-16 atom-16 atom-17' d='M 365.5,137.1 L 384.1,104.7' style='fill:none;fill-rule:evenodd;stroke:#000000;stroke-width:2.0px;stroke-linecap:butt;stroke-linejoin:miter;stroke-opacity:1' />\n",
       "<path class='bond-16 atom-16 atom-17' d='M 362.2,131.5 L 377.6,104.7' style='fill:none;fill-rule:evenodd;stroke:#000000;stroke-width:2.0px;stroke-linecap:butt;stroke-linejoin:miter;stroke-opacity:1' />\n",
       "<path class='bond-17 atom-17 atom-18' d='M 384.1,104.7 L 365.3,72.3' style='fill:none;fill-rule:evenodd;stroke:#000000;stroke-width:2.0px;stroke-linecap:butt;stroke-linejoin:miter;stroke-opacity:1' />\n",
       "<path class='bond-18 atom-18 atom-19' d='M 365.3,72.3 L 327.9,72.4' style='fill:none;fill-rule:evenodd;stroke:#000000;stroke-width:2.0px;stroke-linecap:butt;stroke-linejoin:miter;stroke-opacity:1' />\n",
       "<path class='bond-18 atom-18 atom-19' d='M 362.1,77.9 L 331.1,78.0' style='fill:none;fill-rule:evenodd;stroke:#000000;stroke-width:2.0px;stroke-linecap:butt;stroke-linejoin:miter;stroke-opacity:1' />\n",
       "<path class='bond-19 atom-19 atom-20' d='M 327.9,72.4 L 309.1,40.0' style='fill:none;fill-rule:evenodd;stroke:#000000;stroke-width:2.0px;stroke-linecap:butt;stroke-linejoin:miter;stroke-opacity:1' />\n",
       "<path class='bond-20 atom-18 atom-21' d='M 365.3,72.3 L 372.7,59.5' style='fill:none;fill-rule:evenodd;stroke:#000000;stroke-width:2.0px;stroke-linecap:butt;stroke-linejoin:miter;stroke-opacity:1' />\n",
       "<path class='bond-20 atom-18 atom-21' d='M 372.7,59.5 L 380.1,46.6' style='fill:none;fill-rule:evenodd;stroke:#FF0000;stroke-width:2.0px;stroke-linecap:butt;stroke-linejoin:miter;stroke-opacity:1' />\n",
       "<path class='bond-21 atom-21 atom-22' d='M 380.1,33.3 L 372.6,20.4' style='fill:none;fill-rule:evenodd;stroke:#FF0000;stroke-width:2.0px;stroke-linecap:butt;stroke-linejoin:miter;stroke-opacity:1' />\n",
       "<path class='bond-21 atom-21 atom-22' d='M 372.6,20.4 L 365.2,7.5' style='fill:none;fill-rule:evenodd;stroke:#000000;stroke-width:2.0px;stroke-linecap:butt;stroke-linejoin:miter;stroke-opacity:1' />\n",
       "<path class='bond-22 atom-17 atom-23' d='M 384.1,104.7 L 421.5,104.6' style='fill:none;fill-rule:evenodd;stroke:#000000;stroke-width:2.0px;stroke-linecap:butt;stroke-linejoin:miter;stroke-opacity:1' />\n",
       "<path class='bond-23 atom-7 atom-2' d='M 125.7,110.3 L 93.3,91.6' style='fill:none;fill-rule:evenodd;stroke:#000000;stroke-width:2.0px;stroke-linecap:butt;stroke-linejoin:miter;stroke-opacity:1' />\n",
       "<path class='bond-24 atom-19 atom-14' d='M 327.9,72.4 L 309.3,104.8' style='fill:none;fill-rule:evenodd;stroke:#000000;stroke-width:2.0px;stroke-linecap:butt;stroke-linejoin:miter;stroke-opacity:1' />\n",
       "<path class='bond-25 atom-10 atom-5' d='M 188.3,44.1 L 173.2,49.1' style='fill:none;fill-rule:evenodd;stroke:#0000FF;stroke-width:2.0px;stroke-linecap:butt;stroke-linejoin:miter;stroke-opacity:1' />\n",
       "<path class='bond-25 atom-10 atom-5' d='M 173.2,49.1 L 158.0,54.1' style='fill:none;fill-rule:evenodd;stroke:#000000;stroke-width:2.0px;stroke-linecap:butt;stroke-linejoin:miter;stroke-opacity:1' />\n",
       "<path d='M 93.2,56.1 L 93.2,54.2 L 94.8,53.3' style='fill:none;stroke:#000000;stroke-width:2.0px;stroke-linecap:butt;stroke-linejoin:miter;stroke-opacity:1;' />\n",
       "<path d='M 124.0,36.4 L 125.6,35.4 L 127.2,36.4' style='fill:none;stroke:#000000;stroke-width:2.0px;stroke-linecap:butt;stroke-linejoin:miter;stroke-opacity:1;' />\n",
       "<path d='M 127.4,109.3 L 125.7,110.3 L 124.1,109.3' style='fill:none;stroke:#000000;stroke-width:2.0px;stroke-linecap:butt;stroke-linejoin:miter;stroke-opacity:1;' />\n",
       "<path d='M 364.7,137.1 L 365.5,137.1 L 366.4,135.5' style='fill:none;stroke:#000000;stroke-width:2.0px;stroke-linecap:butt;stroke-linejoin:miter;stroke-opacity:1;' />\n",
       "<path class='atom-1' d='M 56.1 110.4\n",
       "Q 56.1 107.9, 57.3 106.5\n",
       "Q 58.6 105.1, 60.9 105.1\n",
       "Q 63.3 105.1, 64.5 106.5\n",
       "Q 65.8 107.9, 65.8 110.4\n",
       "Q 65.8 113.0, 64.5 114.5\n",
       "Q 63.3 115.9, 60.9 115.9\n",
       "Q 58.6 115.9, 57.3 114.5\n",
       "Q 56.1 113.0, 56.1 110.4\n",
       "M 60.9 114.7\n",
       "Q 62.6 114.7, 63.4 113.7\n",
       "Q 64.3 112.6, 64.3 110.4\n",
       "Q 64.3 108.4, 63.4 107.3\n",
       "Q 62.6 106.3, 60.9 106.3\n",
       "Q 59.3 106.3, 58.4 107.3\n",
       "Q 57.6 108.3, 57.6 110.4\n",
       "Q 57.6 112.6, 58.4 113.7\n",
       "Q 59.3 114.7, 60.9 114.7\n",
       "' fill='#FF0000'/>\n",
       "<path class='atom-8' d='M 191.4 97.7\n",
       "L 194.8 103.3\n",
       "Q 195.2 103.8, 195.7 104.8\n",
       "Q 196.3 105.8, 196.3 105.9\n",
       "L 196.3 97.7\n",
       "L 197.7 97.7\n",
       "L 197.7 108.3\n",
       "L 196.3 108.3\n",
       "L 192.6 102.1\n",
       "Q 192.1 101.4, 191.7 100.6\n",
       "Q 191.2 99.8, 191.1 99.5\n",
       "L 191.1 108.3\n",
       "L 189.7 108.3\n",
       "L 189.7 97.7\n",
       "L 191.4 97.7\n",
       "' fill='#0000FF'/>\n",
       "<path class='atom-8' d='M 189.6 109.3\n",
       "L 191.0 109.3\n",
       "L 191.0 113.8\n",
       "L 196.4 113.8\n",
       "L 196.4 109.3\n",
       "L 197.9 109.3\n",
       "L 197.9 119.9\n",
       "L 196.4 119.9\n",
       "L 196.4 115.0\n",
       "L 191.0 115.0\n",
       "L 191.0 119.9\n",
       "L 189.6 119.9\n",
       "L 189.6 109.3\n",
       "' fill='#0000FF'/>\n",
       "<path class='atom-10' d='M 191.2 37.1\n",
       "L 194.7 42.7\n",
       "Q 195.1 43.3, 195.6 44.3\n",
       "Q 196.2 45.3, 196.2 45.4\n",
       "L 196.2 37.1\n",
       "L 197.6 37.1\n",
       "L 197.6 47.7\n",
       "L 196.1 47.7\n",
       "L 192.4 41.6\n",
       "Q 192.0 40.9, 191.5 40.0\n",
       "Q 191.1 39.2, 190.9 39.0\n",
       "L 190.9 47.7\n",
       "L 189.6 47.7\n",
       "L 189.6 37.1\n",
       "L 191.2 37.1\n",
       "' fill='#0000FF'/>\n",
       "<path class='atom-11' d='M 250.1 76.2\n",
       "Q 250.2 76.2, 250.7 76.5\n",
       "Q 251.2 76.7, 251.7 76.8\n",
       "Q 252.3 76.9, 252.8 76.9\n",
       "Q 253.8 76.9, 254.4 76.4\n",
       "Q 255.0 75.9, 255.0 75.1\n",
       "Q 255.0 74.5, 254.7 74.1\n",
       "Q 254.4 73.8, 253.9 73.6\n",
       "Q 253.5 73.4, 252.7 73.2\n",
       "Q 251.8 72.9, 251.2 72.6\n",
       "Q 250.7 72.4, 250.3 71.8\n",
       "Q 249.9 71.2, 249.9 70.3\n",
       "Q 249.9 68.9, 250.8 68.1\n",
       "Q 251.7 67.3, 253.5 67.3\n",
       "Q 254.7 67.3, 256.1 67.9\n",
       "L 255.8 69.0\n",
       "Q 254.5 68.5, 253.5 68.5\n",
       "Q 252.5 68.5, 251.9 68.9\n",
       "Q 251.4 69.3, 251.4 70.1\n",
       "Q 251.4 70.6, 251.7 71.0\n",
       "Q 252.0 71.3, 252.4 71.5\n",
       "Q 252.8 71.7, 253.5 71.9\n",
       "Q 254.5 72.2, 255.1 72.5\n",
       "Q 255.6 72.8, 256.0 73.5\n",
       "Q 256.5 74.1, 256.5 75.1\n",
       "Q 256.5 76.6, 255.5 77.4\n",
       "Q 254.5 78.1, 252.9 78.1\n",
       "Q 251.9 78.1, 251.2 77.9\n",
       "Q 250.5 77.7, 249.7 77.4\n",
       "L 250.1 76.2\n",
       "' fill='#CCCC00'/>\n",
       "<path class='atom-12' d='M 266.8 40.1\n",
       "Q 266.8 37.6, 268.1 36.2\n",
       "Q 269.3 34.8, 271.7 34.8\n",
       "Q 274.0 34.8, 275.3 36.2\n",
       "Q 276.6 37.6, 276.6 40.1\n",
       "Q 276.6 42.7, 275.3 44.2\n",
       "Q 274.0 45.6, 271.7 45.6\n",
       "Q 269.4 45.6, 268.1 44.2\n",
       "Q 266.8 42.7, 266.8 40.1\n",
       "M 271.7 44.4\n",
       "Q 273.3 44.4, 274.2 43.4\n",
       "Q 275.1 42.3, 275.1 40.1\n",
       "Q 275.1 38.1, 274.2 37.0\n",
       "Q 273.3 36.0, 271.7 36.0\n",
       "Q 270.1 36.0, 269.2 37.0\n",
       "Q 268.3 38.0, 268.3 40.1\n",
       "Q 268.3 42.3, 269.2 43.4\n",
       "Q 270.1 44.4, 271.7 44.4\n",
       "' fill='#FF0000'/>\n",
       "<path class='atom-15' d='M 325.7 131.9\n",
       "L 329.2 137.5\n",
       "Q 329.5 138.1, 330.1 139.1\n",
       "Q 330.6 140.1, 330.7 140.1\n",
       "L 330.7 131.9\n",
       "L 332.1 131.9\n",
       "L 332.1 142.5\n",
       "L 330.6 142.5\n",
       "L 326.9 136.4\n",
       "Q 326.4 135.6, 326.0 134.8\n",
       "Q 325.5 134.0, 325.4 133.7\n",
       "L 325.4 142.5\n",
       "L 324.0 142.5\n",
       "L 324.0 131.9\n",
       "L 325.7 131.9\n",
       "' fill='#0000FF'/>\n",
       "<path class='atom-21' d='M 379.1 39.9\n",
       "Q 379.1 37.3, 380.3 35.9\n",
       "Q 381.6 34.5, 383.9 34.5\n",
       "Q 386.3 34.5, 387.6 35.9\n",
       "Q 388.8 37.3, 388.8 39.9\n",
       "Q 388.8 42.5, 387.5 43.9\n",
       "Q 386.3 45.4, 383.9 45.4\n",
       "Q 381.6 45.4, 380.3 43.9\n",
       "Q 379.1 42.5, 379.1 39.9\n",
       "M 383.9 44.2\n",
       "Q 385.6 44.2, 386.4 43.1\n",
       "Q 387.3 42.0, 387.3 39.9\n",
       "Q 387.3 37.8, 386.4 36.8\n",
       "Q 385.6 35.7, 383.9 35.7\n",
       "Q 382.3 35.7, 381.4 36.7\n",
       "Q 380.6 37.8, 380.6 39.9\n",
       "Q 380.6 42.0, 381.4 43.1\n",
       "Q 382.3 44.2, 383.9 44.2\n",
       "' fill='#FF0000'/>\n",
       "</svg>\n"
      ],
      "text/plain": [
       "<rdkit.Chem.rdchem.Mol at 0x24d7e5420b0>"
      ]
     },
     "execution_count": 21,
     "metadata": {},
     "output_type": "execute_result"
    }
   ],
   "source": [
    "m = Chem.MolFromSmiles('COc1ccc2c(c1)[nH]c(n2)[S@@](=O)Cc1ncc(c(c1C)OC)C')\n",
    "m"
   ]
  },
  {
   "cell_type": "markdown",
   "metadata": {},
   "source": [
    "Note that the coordinates used for the drawing are not present in the molecule, the RDKit generates them when the molecule is drawn."
   ]
  },
  {
   "cell_type": "markdown",
   "metadata": {},
   "source": [
    "## Reading Mol file data"
   ]
  },
  {
   "cell_type": "code",
   "execution_count": 22,
   "metadata": {
    "tags": [
     "nbval-ignore-output"
    ]
   },
   "outputs": [
    {
     "data": {
      "image/png": "[encoded data removed]",
      "image/svg+xml": [
       "<?xml version='1.0' encoding='iso-8859-1'?>\n",
       "<svg version='1.1' baseProfile='full'\n",
       "              xmlns='http://www.w3.org/2000/svg'\n",
       "                      xmlns:rdkit='http://www.rdkit.org/xml'\n",
       "                      xmlns:xlink='http://www.w3.org/1999/xlink'\n",
       "                  xml:space='preserve'\n",
       "width='450px' height='150px' viewBox='0 0 450 150'>\n",
       "<!-- END OF HEADER -->\n",
       "<rect style='opacity:1.0;fill:#FFFFFF;stroke:none' width='450.0' height='150.0' x='0.0' y='0.0'> </rect>\n",
       "<path class='bond-0 atom-0 atom-1' d='M 179.4,22.4 L 127.6,52.3' style='fill:none;fill-rule:evenodd;stroke:#000000;stroke-width:2.0px;stroke-linecap:butt;stroke-linejoin:miter;stroke-opacity:1' />\n",
       "<path class='bond-0 atom-0 atom-1' d='M 179.4,32.8 L 136.6,57.5' style='fill:none;fill-rule:evenodd;stroke:#000000;stroke-width:2.0px;stroke-linecap:butt;stroke-linejoin:miter;stroke-opacity:1' />\n",
       "<path class='bond-1 atom-1 atom-2' d='M 127.6,52.3 L 127.6,112.0' style='fill:none;fill-rule:evenodd;stroke:#000000;stroke-width:2.0px;stroke-linecap:butt;stroke-linejoin:miter;stroke-opacity:1' />\n",
       "<path class='bond-2 atom-2 atom-3' d='M 127.6,112.0 L 179.4,141.9' style='fill:none;fill-rule:evenodd;stroke:#000000;stroke-width:2.0px;stroke-linecap:butt;stroke-linejoin:miter;stroke-opacity:1' />\n",
       "<path class='bond-2 atom-2 atom-3' d='M 136.6,106.9 L 179.4,131.5' style='fill:none;fill-rule:evenodd;stroke:#000000;stroke-width:2.0px;stroke-linecap:butt;stroke-linejoin:miter;stroke-opacity:1' />\n",
       "<path class='bond-3 atom-3 atom-4' d='M 179.4,141.9 L 231.1,112.0' style='fill:none;fill-rule:evenodd;stroke:#000000;stroke-width:2.0px;stroke-linecap:butt;stroke-linejoin:miter;stroke-opacity:1' />\n",
       "<path class='bond-4 atom-4 atom-5' d='M 231.1,112.0 L 231.1,52.3' style='fill:none;fill-rule:evenodd;stroke:#000000;stroke-width:2.0px;stroke-linecap:butt;stroke-linejoin:miter;stroke-opacity:1' />\n",
       "<path class='bond-4 atom-4 atom-5' d='M 222.1,106.9 L 222.1,57.5' style='fill:none;fill-rule:evenodd;stroke:#000000;stroke-width:2.0px;stroke-linecap:butt;stroke-linejoin:miter;stroke-opacity:1' />\n",
       "<path class='bond-5 atom-0 atom-5' d='M 179.4,22.4 L 231.1,52.3' style='fill:none;fill-rule:evenodd;stroke:#000000;stroke-width:2.0px;stroke-linecap:butt;stroke-linejoin:miter;stroke-opacity:1' />\n",
       "<path class='bond-6 atom-5 atom-6' d='M 231.1,52.3 L 249.4,41.7' style='fill:none;fill-rule:evenodd;stroke:#000000;stroke-width:2.0px;stroke-linecap:butt;stroke-linejoin:miter;stroke-opacity:1' />\n",
       "<path class='bond-6 atom-5 atom-6' d='M 249.4,41.7 L 267.8,31.1' style='fill:none;fill-rule:evenodd;stroke:#FF0000;stroke-width:2.0px;stroke-linecap:butt;stroke-linejoin:miter;stroke-opacity:1' />\n",
       "<path d='M 176.8,23.9 L 179.4,22.4 L 181.9,23.9' style='fill:none;stroke:#000000;stroke-width:2.0px;stroke-linecap:butt;stroke-linejoin:miter;stroke-opacity:1;' />\n",
       "<path d='M 130.2,50.8 L 127.6,52.3 L 127.6,55.3' style='fill:none;stroke:#000000;stroke-width:2.0px;stroke-linecap:butt;stroke-linejoin:miter;stroke-opacity:1;' />\n",
       "<path d='M 127.6,109.0 L 127.6,112.0 L 130.2,113.5' style='fill:none;stroke:#000000;stroke-width:2.0px;stroke-linecap:butt;stroke-linejoin:miter;stroke-opacity:1;' />\n",
       "<path d='M 176.8,140.4 L 179.4,141.9 L 181.9,140.4' style='fill:none;stroke:#000000;stroke-width:2.0px;stroke-linecap:butt;stroke-linejoin:miter;stroke-opacity:1;' />\n",
       "<path d='M 228.5,113.5 L 231.1,112.0 L 231.1,109.0' style='fill:none;stroke:#000000;stroke-width:2.0px;stroke-linecap:butt;stroke-linejoin:miter;stroke-opacity:1;' />\n",
       "<path class='atom-6' d='M 269.8 22.5\n",
       "Q 269.8 15.7, 273.2 11.9\n",
       "Q 276.5 8.1, 282.8 8.1\n",
       "Q 289.1 8.1, 292.4 11.9\n",
       "Q 295.8 15.7, 295.8 22.5\n",
       "Q 295.8 29.4, 292.4 33.3\n",
       "Q 289.0 37.2, 282.8 37.2\n",
       "Q 276.6 37.2, 273.2 33.3\n",
       "Q 269.8 29.4, 269.8 22.5\n",
       "M 282.8 34.0\n",
       "Q 287.1 34.0, 289.4 31.1\n",
       "Q 291.8 28.2, 291.8 22.5\n",
       "Q 291.8 17.0, 289.4 14.2\n",
       "Q 287.1 11.3, 282.8 11.3\n",
       "Q 278.5 11.3, 276.1 14.1\n",
       "Q 273.8 16.9, 273.8 22.5\n",
       "Q 273.8 28.2, 276.1 31.1\n",
       "Q 278.5 34.0, 282.8 34.0\n",
       "' fill='#FF0000'/>\n",
       "<path class='atom-6' d='M 300.2 8.4\n",
       "L 304.0 8.4\n",
       "L 304.0 20.5\n",
       "L 318.5 20.5\n",
       "L 318.5 8.4\n",
       "L 322.4 8.4\n",
       "L 322.4 36.8\n",
       "L 318.5 36.8\n",
       "L 318.5 23.7\n",
       "L 304.0 23.7\n",
       "L 304.0 36.8\n",
       "L 300.2 36.8\n",
       "L 300.2 8.4\n",
       "' fill='#FF0000'/>\n",
       "</svg>\n"
      ],
      "text/html": [
       "<?xml version='1.0' encoding='iso-8859-1'?>\n",
       "<svg version='1.1' baseProfile='full'\n",
       "              xmlns='http://www.w3.org/2000/svg'\n",
       "                      xmlns:rdkit='http://www.rdkit.org/xml'\n",
       "                      xmlns:xlink='http://www.w3.org/1999/xlink'\n",
       "                  xml:space='preserve'\n",
       "width='450px' height='150px' viewBox='0 0 450 150'>\n",
       "<!-- END OF HEADER -->\n",
       "<rect style='opacity:1.0;fill:#FFFFFF;stroke:none' width='450.0' height='150.0' x='0.0' y='0.0'> </rect>\n",
       "<path class='bond-0 atom-0 atom-1' d='M 179.4,22.4 L 127.6,52.3' style='fill:none;fill-rule:evenodd;stroke:#000000;stroke-width:2.0px;stroke-linecap:butt;stroke-linejoin:miter;stroke-opacity:1' />\n",
       "<path class='bond-0 atom-0 atom-1' d='M 179.4,32.8 L 136.6,57.5' style='fill:none;fill-rule:evenodd;stroke:#000000;stroke-width:2.0px;stroke-linecap:butt;stroke-linejoin:miter;stroke-opacity:1' />\n",
       "<path class='bond-1 atom-1 atom-2' d='M 127.6,52.3 L 127.6,112.0' style='fill:none;fill-rule:evenodd;stroke:#000000;stroke-width:2.0px;stroke-linecap:butt;stroke-linejoin:miter;stroke-opacity:1' />\n",
       "<path class='bond-2 atom-2 atom-3' d='M 127.6,112.0 L 179.4,141.9' style='fill:none;fill-rule:evenodd;stroke:#000000;stroke-width:2.0px;stroke-linecap:butt;stroke-linejoin:miter;stroke-opacity:1' />\n",
       "<path class='bond-2 atom-2 atom-3' d='M 136.6,106.9 L 179.4,131.5' style='fill:none;fill-rule:evenodd;stroke:#000000;stroke-width:2.0px;stroke-linecap:butt;stroke-linejoin:miter;stroke-opacity:1' />\n",
       "<path class='bond-3 atom-3 atom-4' d='M 179.4,141.9 L 231.1,112.0' style='fill:none;fill-rule:evenodd;stroke:#000000;stroke-width:2.0px;stroke-linecap:butt;stroke-linejoin:miter;stroke-opacity:1' />\n",
       "<path class='bond-4 atom-4 atom-5' d='M 231.1,112.0 L 231.1,52.3' style='fill:none;fill-rule:evenodd;stroke:#000000;stroke-width:2.0px;stroke-linecap:butt;stroke-linejoin:miter;stroke-opacity:1' />\n",
       "<path class='bond-4 atom-4 atom-5' d='M 222.1,106.9 L 222.1,57.5' style='fill:none;fill-rule:evenodd;stroke:#000000;stroke-width:2.0px;stroke-linecap:butt;stroke-linejoin:miter;stroke-opacity:1' />\n",
       "<path class='bond-5 atom-0 atom-5' d='M 179.4,22.4 L 231.1,52.3' style='fill:none;fill-rule:evenodd;stroke:#000000;stroke-width:2.0px;stroke-linecap:butt;stroke-linejoin:miter;stroke-opacity:1' />\n",
       "<path class='bond-6 atom-5 atom-6' d='M 231.1,52.3 L 249.4,41.7' style='fill:none;fill-rule:evenodd;stroke:#000000;stroke-width:2.0px;stroke-linecap:butt;stroke-linejoin:miter;stroke-opacity:1' />\n",
       "<path class='bond-6 atom-5 atom-6' d='M 249.4,41.7 L 267.8,31.1' style='fill:none;fill-rule:evenodd;stroke:#FF0000;stroke-width:2.0px;stroke-linecap:butt;stroke-linejoin:miter;stroke-opacity:1' />\n",
       "<path d='M 176.8,23.9 L 179.4,22.4 L 181.9,23.9' style='fill:none;stroke:#000000;stroke-width:2.0px;stroke-linecap:butt;stroke-linejoin:miter;stroke-opacity:1;' />\n",
       "<path d='M 130.2,50.8 L 127.6,52.3 L 127.6,55.3' style='fill:none;stroke:#000000;stroke-width:2.0px;stroke-linecap:butt;stroke-linejoin:miter;stroke-opacity:1;' />\n",
       "<path d='M 127.6,109.0 L 127.6,112.0 L 130.2,113.5' style='fill:none;stroke:#000000;stroke-width:2.0px;stroke-linecap:butt;stroke-linejoin:miter;stroke-opacity:1;' />\n",
       "<path d='M 176.8,140.4 L 179.4,141.9 L 181.9,140.4' style='fill:none;stroke:#000000;stroke-width:2.0px;stroke-linecap:butt;stroke-linejoin:miter;stroke-opacity:1;' />\n",
       "<path d='M 228.5,113.5 L 231.1,112.0 L 231.1,109.0' style='fill:none;stroke:#000000;stroke-width:2.0px;stroke-linecap:butt;stroke-linejoin:miter;stroke-opacity:1;' />\n",
       "<path class='atom-6' d='M 269.8 22.5\n",
       "Q 269.8 15.7, 273.2 11.9\n",
       "Q 276.5 8.1, 282.8 8.1\n",
       "Q 289.1 8.1, 292.4 11.9\n",
       "Q 295.8 15.7, 295.8 22.5\n",
       "Q 295.8 29.4, 292.4 33.3\n",
       "Q 289.0 37.2, 282.8 37.2\n",
       "Q 276.6 37.2, 273.2 33.3\n",
       "Q 269.8 29.4, 269.8 22.5\n",
       "M 282.8 34.0\n",
       "Q 287.1 34.0, 289.4 31.1\n",
       "Q 291.8 28.2, 291.8 22.5\n",
       "Q 291.8 17.0, 289.4 14.2\n",
       "Q 287.1 11.3, 282.8 11.3\n",
       "Q 278.5 11.3, 276.1 14.1\n",
       "Q 273.8 16.9, 273.8 22.5\n",
       "Q 273.8 28.2, 276.1 31.1\n",
       "Q 278.5 34.0, 282.8 34.0\n",
       "' fill='#FF0000'/>\n",
       "<path class='atom-6' d='M 300.2 8.4\n",
       "L 304.0 8.4\n",
       "L 304.0 20.5\n",
       "L 318.5 20.5\n",
       "L 318.5 8.4\n",
       "L 322.4 8.4\n",
       "L 322.4 36.8\n",
       "L 318.5 36.8\n",
       "L 318.5 23.7\n",
       "L 304.0 23.7\n",
       "L 304.0 36.8\n",
       "L 300.2 36.8\n",
       "L 300.2 8.4\n",
       "' fill='#FF0000'/>\n",
       "</svg>\n"
      ],
      "text/plain": [
       "<rdkit.Chem.rdchem.Mol at 0x24d7e542040>"
      ]
     },
     "execution_count": 22,
     "metadata": {},
     "output_type": "execute_result"
    }
   ],
   "source": [
    "molblock = \"\"\"phenol\n",
    "  Mrv1682210081607082D          \n",
    "\n",
    "  7  7  0  0  0  0            999 V2000\n",
    "   -0.6473    1.0929    0.0000 C   0  0  0  0  0  0  0  0  0  0  0  0\n",
    "   -1.3618    0.6804    0.0000 C   0  0  0  0  0  0  0  0  0  0  0  0\n",
    "   -1.3618   -0.1447    0.0000 C   0  0  0  0  0  0  0  0  0  0  0  0\n",
    "   -0.6473   -0.5572    0.0000 C   0  0  0  0  0  0  0  0  0  0  0  0\n",
    "    0.0671   -0.1447    0.0000 C   0  0  0  0  0  0  0  0  0  0  0  0\n",
    "    0.0671    0.6804    0.0000 C   0  0  0  0  0  0  0  0  0  0  0  0\n",
    "    0.7816    1.0929    0.0000 O   0  0  0  0  0  0  0  0  0  0  0  0\n",
    "  1  2  1  0  0  0  0\n",
    "  2  3  2  0  0  0  0\n",
    "  3  4  1  0  0  0  0\n",
    "  4  5  2  0  0  0  0\n",
    "  5  6  1  0  0  0  0\n",
    "  1  6  2  0  0  0  0\n",
    "  6  7  1  0  0  0  0\n",
    "M  END\n",
    "\"\"\"\n",
    "m = Chem.MolFromMolBlock(molblock)\n",
    "m"
   ]
  },
  {
   "cell_type": "markdown",
   "metadata": {},
   "source": [
    "Here the molecule has coordinates that were read in from the Mol block. We can see this because the molecule has a conformer:"
   ]
  },
  {
   "cell_type": "code",
   "execution_count": 23,
   "metadata": {},
   "outputs": [
    {
     "data": {
      "text/plain": [
       "1"
      ]
     },
     "execution_count": 23,
     "metadata": {},
     "output_type": "execute_result"
    }
   ],
   "source": [
    "m.GetNumConformers()"
   ]
  },
  {
   "cell_type": "markdown",
   "metadata": {},
   "source": [
    "The conformer that is present is 2D (we can see that from the coordinates above):"
   ]
  },
  {
   "cell_type": "code",
   "execution_count": 24,
   "metadata": {},
   "outputs": [
    {
     "data": {
      "text/plain": [
       "False"
      ]
     },
     "execution_count": 24,
     "metadata": {},
     "output_type": "execute_result"
    }
   ],
   "source": [
    "m.GetConformer().Is3D()"
   ]
  },
  {
   "cell_type": "markdown",
   "metadata": {},
   "source": [
    "Here's another Mol block and the corresponding molecule:"
   ]
  },
  {
   "cell_type": "code",
   "execution_count": 25,
   "metadata": {
    "tags": [
     "nbval-ignore-output"
    ]
   },
   "outputs": [
    {
     "data": {
      "image/png": "[encoded data removed]",
      "image/svg+xml": [
       "<?xml version='1.0' encoding='iso-8859-1'?>\n",
       "<svg version='1.1' baseProfile='full'\n",
       "              xmlns='http://www.w3.org/2000/svg'\n",
       "                      xmlns:rdkit='http://www.rdkit.org/xml'\n",
       "                      xmlns:xlink='http://www.w3.org/1999/xlink'\n",
       "                  xml:space='preserve'\n",
       "width='450px' height='150px' viewBox='0 0 450 150'>\n",
       "<!-- END OF HEADER -->\n",
       "<rect style='opacity:1.0;fill:#FFFFFF;stroke:none' width='450.0' height='150.0' x='0.0' y='0.0'> </rect>\n",
       "<path class='bond-0 atom-0 atom-1' d='M 405.0,14.8 L 266.6,7.6' style='fill:none;fill-rule:evenodd;stroke:#000000;stroke-width:2.0px;stroke-linecap:butt;stroke-linejoin:miter;stroke-opacity:1' />\n",
       "<path class='bond-1 atom-1 atom-2' d='M 266.6,7.6 L 232.7,142.4' style='fill:none;fill-rule:evenodd;stroke:#000000;stroke-width:2.0px;stroke-linecap:butt;stroke-linejoin:miter;stroke-opacity:1' />\n",
       "<path class='bond-2 atom-0 atom-2' d='M 405.0,14.8 L 232.7,142.4' style='fill:none;fill-rule:evenodd;stroke:#000000;stroke-width:2.0px;stroke-linecap:butt;stroke-linejoin:miter;stroke-opacity:1' />\n",
       "<path class='bond-3 atom-2 atom-3' d='M 232.7,142.4 L 169.3,121.2' style='fill:none;fill-rule:evenodd;stroke:#000000;stroke-width:2.0px;stroke-linecap:butt;stroke-linejoin:miter;stroke-opacity:1' />\n",
       "<path class='bond-3 atom-2 atom-3' d='M 169.3,121.2 L 105.9,99.9' style='fill:none;fill-rule:evenodd;stroke:#FF0000;stroke-width:2.0px;stroke-linecap:butt;stroke-linejoin:miter;stroke-opacity:1' />\n",
       "<path d='M 398.1,14.4 L 405.0,14.8 L 396.4,21.2' style='fill:none;stroke:#000000;stroke-width:2.0px;stroke-linecap:butt;stroke-linejoin:miter;stroke-opacity:1;' />\n",
       "<path d='M 273.5,7.9 L 266.6,7.6 L 264.9,14.3' style='fill:none;stroke:#000000;stroke-width:2.0px;stroke-linecap:butt;stroke-linejoin:miter;stroke-opacity:1;' />\n",
       "<path class='atom-3' d='M 45.0 79.2\n",
       "L 48.8 79.2\n",
       "L 48.8 91.3\n",
       "L 63.3 91.3\n",
       "L 63.3 79.2\n",
       "L 67.1 79.2\n",
       "L 67.1 107.5\n",
       "L 63.3 107.5\n",
       "L 63.3 94.5\n",
       "L 48.8 94.5\n",
       "L 48.8 107.5\n",
       "L 45.0 107.5\n",
       "L 45.0 79.2\n",
       "' fill='#FF0000'/>\n",
       "<path class='atom-3' d='M 73.0 93.3\n",
       "Q 73.0 86.5, 76.3 82.7\n",
       "Q 79.7 78.9, 86.0 78.9\n",
       "Q 92.2 78.9, 95.6 82.7\n",
       "Q 99.0 86.5, 99.0 93.3\n",
       "Q 99.0 100.2, 95.6 104.1\n",
       "Q 92.2 108.0, 86.0 108.0\n",
       "Q 79.7 108.0, 76.3 104.1\n",
       "Q 73.0 100.2, 73.0 93.3\n",
       "M 86.0 104.8\n",
       "Q 90.3 104.8, 92.6 101.9\n",
       "Q 95.0 99.0, 95.0 93.3\n",
       "Q 95.0 87.7, 92.6 84.9\n",
       "Q 90.3 82.1, 86.0 82.1\n",
       "Q 81.6 82.1, 79.3 84.9\n",
       "Q 77.0 87.7, 77.0 93.3\n",
       "Q 77.0 99.0, 79.3 101.9\n",
       "Q 81.6 104.8, 86.0 104.8\n",
       "' fill='#FF0000'/>\n",
       "</svg>\n"
      ],
      "text/html": [
       "<?xml version='1.0' encoding='iso-8859-1'?>\n",
       "<svg version='1.1' baseProfile='full'\n",
       "              xmlns='http://www.w3.org/2000/svg'\n",
       "                      xmlns:rdkit='http://www.rdkit.org/xml'\n",
       "                      xmlns:xlink='http://www.w3.org/1999/xlink'\n",
       "                  xml:space='preserve'\n",
       "width='450px' height='150px' viewBox='0 0 450 150'>\n",
       "<!-- END OF HEADER -->\n",
       "<rect style='opacity:1.0;fill:#FFFFFF;stroke:none' width='450.0' height='150.0' x='0.0' y='0.0'> </rect>\n",
       "<path class='bond-0 atom-0 atom-1' d='M 405.0,14.8 L 266.6,7.6' style='fill:none;fill-rule:evenodd;stroke:#000000;stroke-width:2.0px;stroke-linecap:butt;stroke-linejoin:miter;stroke-opacity:1' />\n",
       "<path class='bond-1 atom-1 atom-2' d='M 266.6,7.6 L 232.7,142.4' style='fill:none;fill-rule:evenodd;stroke:#000000;stroke-width:2.0px;stroke-linecap:butt;stroke-linejoin:miter;stroke-opacity:1' />\n",
       "<path class='bond-2 atom-0 atom-2' d='M 405.0,14.8 L 232.7,142.4' style='fill:none;fill-rule:evenodd;stroke:#000000;stroke-width:2.0px;stroke-linecap:butt;stroke-linejoin:miter;stroke-opacity:1' />\n",
       "<path class='bond-3 atom-2 atom-3' d='M 232.7,142.4 L 169.3,121.2' style='fill:none;fill-rule:evenodd;stroke:#000000;stroke-width:2.0px;stroke-linecap:butt;stroke-linejoin:miter;stroke-opacity:1' />\n",
       "<path class='bond-3 atom-2 atom-3' d='M 169.3,121.2 L 105.9,99.9' style='fill:none;fill-rule:evenodd;stroke:#FF0000;stroke-width:2.0px;stroke-linecap:butt;stroke-linejoin:miter;stroke-opacity:1' />\n",
       "<path d='M 398.1,14.4 L 405.0,14.8 L 396.4,21.2' style='fill:none;stroke:#000000;stroke-width:2.0px;stroke-linecap:butt;stroke-linejoin:miter;stroke-opacity:1;' />\n",
       "<path d='M 273.5,7.9 L 266.6,7.6 L 264.9,14.3' style='fill:none;stroke:#000000;stroke-width:2.0px;stroke-linecap:butt;stroke-linejoin:miter;stroke-opacity:1;' />\n",
       "<path class='atom-3' d='M 45.0 79.2\n",
       "L 48.8 79.2\n",
       "L 48.8 91.3\n",
       "L 63.3 91.3\n",
       "L 63.3 79.2\n",
       "L 67.1 79.2\n",
       "L 67.1 107.5\n",
       "L 63.3 107.5\n",
       "L 63.3 94.5\n",
       "L 48.8 94.5\n",
       "L 48.8 107.5\n",
       "L 45.0 107.5\n",
       "L 45.0 79.2\n",
       "' fill='#FF0000'/>\n",
       "<path class='atom-3' d='M 73.0 93.3\n",
       "Q 73.0 86.5, 76.3 82.7\n",
       "Q 79.7 78.9, 86.0 78.9\n",
       "Q 92.2 78.9, 95.6 82.7\n",
       "Q 99.0 86.5, 99.0 93.3\n",
       "Q 99.0 100.2, 95.6 104.1\n",
       "Q 92.2 108.0, 86.0 108.0\n",
       "Q 79.7 108.0, 76.3 104.1\n",
       "Q 73.0 100.2, 73.0 93.3\n",
       "M 86.0 104.8\n",
       "Q 90.3 104.8, 92.6 101.9\n",
       "Q 95.0 99.0, 95.0 93.3\n",
       "Q 95.0 87.7, 92.6 84.9\n",
       "Q 90.3 82.1, 86.0 82.1\n",
       "Q 81.6 82.1, 79.3 84.9\n",
       "Q 77.0 87.7, 77.0 93.3\n",
       "Q 77.0 99.0, 79.3 101.9\n",
       "Q 81.6 104.8, 86.0 104.8\n",
       "' fill='#FF0000'/>\n",
       "</svg>\n"
      ],
      "text/plain": [
       "<rdkit.Chem.rdchem.Mol at 0x24d7e542430>"
      ]
     },
     "execution_count": 25,
     "metadata": {},
     "output_type": "execute_result"
    }
   ],
   "source": [
    "molblock2 ='''cyclopropanol-3D\n",
    "  Mrv1682210081607153D          \n",
    "\n",
    " 10 10  0  0  0  0            999 V2000\n",
    "    0.9159    1.2233    0.2286 C   0  0  1  0  0  0  0  0  0  0  0  0\n",
    "   -0.0738    1.2748   -0.9428 C   0  0  2  0  0  0  0  0  0  0  0  0\n",
    "   -0.3167    0.3104    0.2232 C   0  0  2  0  0  0  0  0  0  0  0  0\n",
    "   -1.3658    0.6623    1.1190 O   0  0  0  0  0  0  0  0  0  0  0  0\n",
    "    1.8730    0.7413    0.0155 H   0  0  0  0  0  0  0  0  0  0  0  0\n",
    "    0.8835    2.0739    0.9139 H   0  0  0  0  0  0  0  0  0  0  0  0\n",
    "    0.2747    0.8266   -1.8737 H   0  0  0  0  0  0  0  0  0  0  0  0\n",
    "   -0.7163    2.1557   -0.9817 H   0  0  0  0  0  0  0  0  0  0  0  0\n",
    "   -0.1264   -0.7446    0.0137 H   0  0  0  0  0  0  0  0  0  0  0  0\n",
    "   -1.1210    0.2486    1.9735 H   0  0  0  0  0  0  0  0  0  0  0  0\n",
    "  1  2  1  0  0  0  0\n",
    "  2  3  1  0  0  0  0\n",
    "  1  3  1  0  0  0  0\n",
    "  3  4  1  0  0  0  0\n",
    "  1  5  1  0  0  0  0\n",
    "  1  6  1  0  0  0  0\n",
    "  2  7  1  0  0  0  0\n",
    "  2  8  1  0  0  0  0\n",
    "  3  9  1  0  0  0  0\n",
    "  4 10  1  0  0  0  0\n",
    "M  END\n",
    "'''\n",
    "m2 = Chem.MolFromMolBlock(molblock2)\n",
    "m2"
   ]
  },
  {
   "cell_type": "markdown",
   "metadata": {},
   "source": [
    "The odd coordinates in the drawing is because the molecule has a 3D conformer:"
   ]
  },
  {
   "cell_type": "code",
   "execution_count": 26,
   "metadata": {},
   "outputs": [
    {
     "data": {
      "text/plain": [
       "True"
      ]
     },
     "execution_count": 26,
     "metadata": {},
     "output_type": "execute_result"
    }
   ],
   "source": [
    "m2.GetConformer().Is3D()"
   ]
  },
  {
   "cell_type": "markdown",
   "metadata": {},
   "source": [
    "Notice that no Hs were drawn even though there are clearly H atoms in the Mol block. The default behavior for the RDKit Mol block reader is to remove Hs from the input molecule. If we want to keep the Hs and their coordinates, this behavior can be turned off:"
   ]
  },
  {
   "cell_type": "code",
   "execution_count": 11,
   "metadata": {
    "tags": [
     "nbval-ignore-output"
    ]
   },
   "outputs": [
    {
     "data": {
      "image/png": "[encoded data removed]",
      "text/plain": [
       "<rdkit.Chem.rdchem.Mol at 0x24d7e5317b0>"
      ]
     },
     "execution_count": 11,
     "metadata": {},
     "output_type": "execute_result"
    }
   ],
   "source": [
    "m2_h = Chem.MolFromMolBlock(molblock2,removeHs=False)\n",
    "m2_h"
   ]
  },
  {
   "cell_type": "markdown",
   "metadata": {},
   "source": [
    "## Reading PDB data"
   ]
  },
  {
   "cell_type": "markdown",
   "metadata": {},
   "source": [
    "This time we'll read from a file instead of embedding the text in the notebook. We also won't try to display the molecule itself, since that isn't particularly informative for a large molecule."
   ]
  },
  {
   "cell_type": "code",
   "execution_count": 12,
   "metadata": {},
   "outputs": [
    {
     "data": {
      "text/plain": [
       "327"
      ]
     },
     "execution_count": 12,
     "metadata": {},
     "output_type": "execute_result"
    }
   ],
   "source": [
    "crn = Chem.MolFromPDBFile('../data/1CRN.pdb')\n",
    "crn.GetNumAtoms()"
   ]
  },
  {
   "cell_type": "markdown",
   "metadata": {},
   "source": [
    "In order to be able to show something useful with the proteins, let's get the amino-acid sequence:"
   ]
  },
  {
   "cell_type": "code",
   "execution_count": 13,
   "metadata": {},
   "outputs": [
    {
     "data": {
      "text/plain": [
       "[(1, 'THR'),\n",
       " (1, 'THR'),\n",
       " (1, 'THR'),\n",
       " (1, 'THR'),\n",
       " (1, 'THR'),\n",
       " (1, 'THR'),\n",
       " (1, 'THR'),\n",
       " (2, 'THR'),\n",
       " (2, 'THR'),\n",
       " (2, 'THR')]"
      ]
     },
     "execution_count": 13,
     "metadata": {},
     "output_type": "execute_result"
    }
   ],
   "source": [
    "# get the residue information for each atom:\n",
    "residues = [atom.GetPDBResidueInfo() for atom in crn.GetAtoms()]\n",
    "# and now the number and name of each residue\n",
    "resinf = [(res.GetResidueNumber(),res.GetResidueName()) for res in residues]\n",
    "# take a look at those:\n",
    "resinf[:10]"
   ]
  },
  {
   "cell_type": "code",
   "execution_count": 14,
   "metadata": {},
   "outputs": [
    {
     "data": {
      "text/plain": [
       "46"
      ]
     },
     "execution_count": 14,
     "metadata": {},
     "output_type": "execute_result"
    }
   ],
   "source": [
    "# and get the ordered list of actual residues:\n",
    "residues = sorted(set(resinf))\n",
    "len(residues)"
   ]
  },
  {
   "cell_type": "code",
   "execution_count": 15,
   "metadata": {},
   "outputs": [
    {
     "data": {
      "text/plain": [
       "[(1, 'THR'), (2, 'THR'), (3, 'CYS'), (4, 'CYS'), (5, 'PRO')]"
      ]
     },
     "execution_count": 15,
     "metadata": {},
     "output_type": "execute_result"
    }
   ],
   "source": [
    "residues[:5]"
   ]
  },
  {
   "cell_type": "markdown",
   "metadata": {},
   "source": [
    "## Reading other sequence formats"
   ]
  },
  {
   "cell_type": "markdown",
   "metadata": {},
   "source": [
    "We can also create molecules from a few sequence formats:"
   ]
  },
  {
   "cell_type": "code",
   "execution_count": 16,
   "metadata": {},
   "outputs": [
    {
     "data": {
      "text/plain": [
       "327"
      ]
     },
     "execution_count": 16,
     "metadata": {},
     "output_type": "execute_result"
    }
   ],
   "source": [
    "seq = 'TTCCPSIVAR SNFNVCRLPG TPEAICATYT GCIIIPGATC PGDYAN'\n",
    "m = Chem.MolFromSequence(seq)\n",
    "m.GetNumAtoms()"
   ]
  },
  {
   "cell_type": "code",
   "execution_count": 17,
   "metadata": {},
   "outputs": [
    {
     "data": {
      "text/plain": [
       "327"
      ]
     },
     "execution_count": 17,
     "metadata": {},
     "output_type": "execute_result"
    }
   ],
   "source": [
    "helm = 'PEPTIDE1{T.T.C.C.P.S.I.V.A.R.S.N.F.N.V.C.R.L.P.G.T.P.E.A.I.C.A.T.Y.T.G.C.I.I.I.P.G.A.T.C.P.G.D.Y.A.N}$$$$'\n",
    "m = Chem.MolFromHELM(helm)\n",
    "m.GetNumAtoms()"
   ]
  },
  {
   "cell_type": "code",
   "execution_count": 18,
   "metadata": {},
   "outputs": [
    {
     "data": {
      "text/plain": [
       "327"
      ]
     },
     "execution_count": 18,
     "metadata": {},
     "output_type": "execute_result"
    }
   ],
   "source": [
    "fasta =\"\"\">\n",
    "TTCCPSIVARSNFNVCRLPGTPEAICATYTGCIIIPGATCPGDYAN\n",
    "\"\"\"\n",
    "m = Chem.MolFromFASTA(fasta)\n",
    "m.GetNumAtoms()"
   ]
  },
  {
   "cell_type": "code",
   "execution_count": null,
   "metadata": {},
   "outputs": [],
   "source": []
  }
 ],
 "metadata": {
  "anaconda-cloud": {},
  "celltoolbar": "Tags",
  "hide_input": false,
  "kernelspec": {
   "display_name": "Python 3",
   "language": "python",
   "name": "python3"
  },
  "language_info": {
   "codemirror_mode": {
    "name": "ipython",
    "version": 3
   },
   "file_extension": ".py",
   "mimetype": "text/x-python",
   "name": "python",
   "nbconvert_exporter": "python",
   "pygments_lexer": "ipython3",
   "version": "3.8.8"
  },
  "toc": {
   "base_numbering": 1,
   "nav_menu": {},
   "number_sections": true,
   "sideBar": true,
   "skip_h1_title": false,
   "title_cell": "Table of Contents",
   "title_sidebar": "Contents",
   "toc_cell": false,
   "toc_position": {},
   "toc_section_display": true,
   "toc_window_display": false
  }
 },
 "nbformat": 4,
 "nbformat_minor": 1
}
